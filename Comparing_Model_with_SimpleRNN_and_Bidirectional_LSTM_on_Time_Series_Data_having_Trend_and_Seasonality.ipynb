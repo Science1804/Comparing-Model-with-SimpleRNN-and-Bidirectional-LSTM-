{
  "nbformat": 4,
  "nbformat_minor": 0,
  "metadata": {
    "colab": {
      "name": "Comparing Model with SimpleRNN and Bidirectional LSTM on Time Series Data having Trend and Seasonality.ipynb",
      "provenance": []
    },
    "kernelspec": {
      "name": "python3",
      "display_name": "Python 3"
    }
  },
  "cells": [
    {
      "cell_type": "code",
      "metadata": {
        "id": "_tAJROicy4QU",
        "colab_type": "code",
        "colab": {}
      },
      "source": [
        "import tensorflow as tf\n",
        "import numpy as np\n",
        "import matplotlib.pyplot as plt\n",
        "%matplotlib inline"
      ],
      "execution_count": null,
      "outputs": []
    },
    {
      "cell_type": "code",
      "metadata": {
        "id": "6C9TlqRmf-J-",
        "colab_type": "code",
        "colab": {}
      },
      "source": [
        "def plot_series(time,series,start=0,end=None,format='-'):\n",
        "  plt.plot(time[start:end],series[start:end],format)\n",
        "  plt.xlabel('Time')\n",
        "  plt.ylabel('Value')\n",
        "  plt.grid(True)"
      ],
      "execution_count": null,
      "outputs": []
    },
    {
      "cell_type": "code",
      "metadata": {
        "id": "EOL27C_u2I6S",
        "colab_type": "code",
        "colab": {}
      },
      "source": [
        "def trend(time,slope=0):\n",
        "  return slope*time"
      ],
      "execution_count": null,
      "outputs": []
    },
    {
      "cell_type": "code",
      "metadata": {
        "id": "jKuPnEQ62ODw",
        "colab_type": "code",
        "colab": {}
      },
      "source": [
        "def seasonal_pattern(season_time):\n",
        "  return np.where(season_time < 0.1,\n",
        "                    np.cos(season_time * 6 * np.pi),\n",
        "                    2 / np.exp(9 * season_time))"
      ],
      "execution_count": null,
      "outputs": []
    },
    {
      "cell_type": "code",
      "metadata": {
        "id": "MYMtFC2G4xfD",
        "colab_type": "code",
        "colab": {}
      },
      "source": [
        "def seasonality(time,period,amplitude=1,phase=0):\n",
        "  season_time = ((time+phase) % period) / period\n",
        "  return amplitude*seasonal_pattern(season_time)"
      ],
      "execution_count": null,
      "outputs": []
    },
    {
      "cell_type": "code",
      "metadata": {
        "id": "rG_hkCQs6IKX",
        "colab_type": "code",
        "colab": {}
      },
      "source": [
        "def noise(time,noise_level=1,seed=None):\n",
        "  rnd = np.random.RandomState(seed)\n",
        "  return rnd.randn(len(time))*noise_level"
      ],
      "execution_count": null,
      "outputs": []
    },
    {
      "cell_type": "code",
      "metadata": {
        "id": "abKgljLU6XKI",
        "colab_type": "code",
        "colab": {}
      },
      "source": [
        "\n",
        "time=np.arange(10*365 + 1 , dtype='float32')\n",
        "baseline = 10\n",
        "amplitude = 40\n",
        "slope = 0.005\n",
        "noise_level = 3"
      ],
      "execution_count": null,
      "outputs": []
    },
    {
      "cell_type": "code",
      "metadata": {
        "id": "CQ4QVwZQ8fNd",
        "colab_type": "code",
        "colab": {}
      },
      "source": [
        "series = baseline + trend(time,slope) + seasonality(time,period=365,amplitude=amplitude)\n",
        "series += noise(time,noise_level,seed=51)"
      ],
      "execution_count": null,
      "outputs": []
    },
    {
      "cell_type": "code",
      "metadata": {
        "id": "nMnw6X5s-Ipj",
        "colab_type": "code",
        "colab": {}
      },
      "source": [
        "split_time = 3000\n",
        "window_size = 20\n",
        "batch_size = 32\n",
        "shuffle_buffer_size = 1000"
      ],
      "execution_count": null,
      "outputs": []
    },
    {
      "cell_type": "code",
      "metadata": {
        "id": "ZI0PN74X_Mag",
        "colab_type": "code",
        "colab": {
          "base_uri": "https://localhost:8080/",
          "height": 279
        },
        "outputId": "80173326-f852-40f0-b754-94fb64f9bf3a"
      },
      "source": [
        "plot_series(time,series)"
      ],
      "execution_count": null,
      "outputs": [
        {
          "output_type": "display_data",
          "data": {
            "image/png": "[encoded data removed]",
            "text/plain": [
              "<Figure size 432x288 with 1 Axes>"
            ]
          },
          "metadata": {
            "tags": [],
            "needs_background": "light"
          }
        }
      ]
    },
    {
      "cell_type": "code",
      "metadata": {
        "id": "A4Ao4sPk_QDo",
        "colab_type": "code",
        "colab": {}
      },
      "source": [
        "def windowed_dataset(series,window_size,batch_size,shuffle_buffer):\n",
        "  dataset = tf.data.Dataset.from_tensor_slices(series)\n",
        "  dataset = dataset.window(window_size + 1,shift=1,drop_remainder=True)\n",
        "  dataset = dataset.flat_map(lambda window: window.batch(window_size + 1))\n",
        "  dataset = dataset.shuffle(shuffle_buffer).map(lambda window: (window[:-1], window[-1]))\n",
        "  dataset = dataset.batch(batch_size).prefetch(1)\n",
        "  return dataset"
      ],
      "execution_count": null,
      "outputs": []
    },
    {
      "cell_type": "code",
      "metadata": {
        "id": "iN1p11gHAvAr",
        "colab_type": "code",
        "colab": {}
      },
      "source": [
        "x_train = series[:split_time]\n",
        "time_train = time[:split_time]\n",
        "x_valid = series[split_time:]\n",
        "time_valid = time[split_time:]"
      ],
      "execution_count": null,
      "outputs": []
    },
    {
      "cell_type": "markdown",
      "metadata": {
        "id": "MA-bVXFoO2bu",
        "colab_type": "text"
      },
      "source": [
        "#Using SimpleRNN in the Model\n"
      ]
    },
    {
      "cell_type": "code",
      "metadata": {
        "id": "gBG1ehLjO0q5",
        "colab_type": "code",
        "colab": {}
      },
      "source": [
        "#using RNN"
      ],
      "execution_count": null,
      "outputs": []
    },
    {
      "cell_type": "code",
      "metadata": {
        "id": "md73FjZNAN6s",
        "colab_type": "code",
        "colab": {}
      },
      "source": [
        "tf.keras.backend.clear_session()\n",
        "tf.random.set_seed(51)\n",
        "np.random.seed(51)\n",
        "dataset = windowed_dataset(x_train,window_size,batch_size,shuffle_buffer_size)"
      ],
      "execution_count": null,
      "outputs": []
    },
    {
      "cell_type": "code",
      "metadata": {
        "id": "5xEoaysJJ4x9",
        "colab_type": "code",
        "colab": {}
      },
      "source": [
        "model_rnn0 = tf.keras.Sequential([\n",
        "                                  tf.keras.layers.Lambda(lambda x:tf.expand_dims(x,axis=-1)),\n",
        "                                  tf.keras.layers.SimpleRNN(64,return_sequences=True),\n",
        "                                  tf.keras.layers.SimpleRNN(64),\n",
        "                                  tf.keras.layers.Dense(1),\n",
        "                                  tf.keras.layers.Lambda(lambda x: x*100.0)\n",
        "])"
      ],
      "execution_count": null,
      "outputs": []
    },
    {
      "cell_type": "code",
      "metadata": {
        "id": "BM6-1lpmJ4vG",
        "colab_type": "code",
        "colab": {}
      },
      "source": [
        "lr_schedule = tf.keras.callbacks.LearningRateScheduler(lambda epoch:1e-8*10**(epoch/20))\n",
        "optimizer_rnn0 = tf.keras.optimizers.SGD(lr=1e-8,momentum=0.9)"
      ],
      "execution_count": null,
      "outputs": []
    },
    {
      "cell_type": "code",
      "metadata": {
        "id": "fYtx8KcxJ4r8",
        "colab_type": "code",
        "colab": {}
      },
      "source": [
        "model_rnn0.compile(loss=tf.keras.losses.Huber(),optimizer=optimizer_rnn0,metrics=['mae'])"
      ],
      "execution_count": null,
      "outputs": []
    },
    {
      "cell_type": "code",
      "metadata": {
        "id": "_6frI_hHJ4qi",
        "colab_type": "code",
        "colab": {
          "base_uri": "https://localhost:8080/",
          "height": 1000
        },
        "outputId": "8a987639-d8f5-447e-ee4e-9f824a99ef21"
      },
      "source": [
        "history_rnn0 = model_rnn0.fit(dataset,epochs=100,callbacks=[lr_schedule])"
      ],
      "execution_count": null,
      "outputs": [
        {
          "output_type": "stream",
          "text": [
            "Epoch 1/100\n",
            "94/94 [==============================] - 2s 18ms/step - loss: 172.5327 - mae: 173.0327 - lr: 1.0000e-08\n",
            "Epoch 2/100\n",
            "94/94 [==============================] - 2s 18ms/step - loss: 157.9179 - mae: 158.4179 - lr: 1.1220e-08\n",
            "Epoch 3/100\n",
            "94/94 [==============================] - 2s 19ms/step - loss: 139.6182 - mae: 140.1182 - lr: 1.2589e-08\n",
            "Epoch 4/100\n",
            "94/94 [==============================] - 2s 19ms/step - loss: 116.1850 - mae: 116.6850 - lr: 1.4125e-08\n",
            "Epoch 5/100\n",
            "94/94 [==============================] - 1s 12ms/step - loss: 85.3879 - mae: 85.8879 - lr: 1.5849e-08\n",
            "Epoch 6/100\n",
            "94/94 [==============================] - 1s 11ms/step - loss: 46.9080 - mae: 47.4078 - lr: 1.7783e-08\n",
            "Epoch 7/100\n",
            "94/94 [==============================] - 1s 11ms/step - loss: 15.6350 - mae: 16.1279 - lr: 1.9953e-08\n",
            "Epoch 8/100\n",
            "94/94 [==============================] - 1s 11ms/step - loss: 11.9581 - mae: 12.4472 - lr: 2.2387e-08\n",
            "Epoch 9/100\n",
            "94/94 [==============================] - 1s 11ms/step - loss: 11.4598 - mae: 11.9458 - lr: 2.5119e-08\n",
            "Epoch 10/100\n",
            "94/94 [==============================] - 1s 11ms/step - loss: 10.9570 - mae: 11.4451 - lr: 2.8184e-08\n",
            "Epoch 11/100\n",
            "94/94 [==============================] - 1s 11ms/step - loss: 10.4875 - mae: 10.9758 - lr: 3.1623e-08\n",
            "Epoch 12/100\n",
            "94/94 [==============================] - 1s 11ms/step - loss: 10.0182 - mae: 10.5060 - lr: 3.5481e-08\n",
            "Epoch 13/100\n",
            "94/94 [==============================] - 1s 11ms/step - loss: 9.5810 - mae: 10.0682 - lr: 3.9811e-08\n",
            "Epoch 14/100\n",
            "94/94 [==============================] - 1s 11ms/step - loss: 9.1392 - mae: 9.6278 - lr: 4.4668e-08\n",
            "Epoch 15/100\n",
            "94/94 [==============================] - 1s 11ms/step - loss: 8.7030 - mae: 9.1890 - lr: 5.0119e-08\n",
            "Epoch 16/100\n",
            "94/94 [==============================] - 1s 11ms/step - loss: 8.2839 - mae: 8.7705 - lr: 5.6234e-08\n",
            "Epoch 17/100\n",
            "94/94 [==============================] - 1s 11ms/step - loss: 7.8178 - mae: 8.3044 - lr: 6.3096e-08\n",
            "Epoch 18/100\n",
            "94/94 [==============================] - 1s 11ms/step - loss: 7.3460 - mae: 7.8300 - lr: 7.0795e-08\n",
            "Epoch 19/100\n",
            "94/94 [==============================] - 1s 11ms/step - loss: 6.8345 - mae: 7.3139 - lr: 7.9433e-08\n",
            "Epoch 20/100\n",
            "94/94 [==============================] - 1s 11ms/step - loss: 6.3710 - mae: 6.8491 - lr: 8.9125e-08\n",
            "Epoch 21/100\n",
            "94/94 [==============================] - 1s 11ms/step - loss: 5.9021 - mae: 6.3808 - lr: 1.0000e-07\n",
            "Epoch 22/100\n",
            "94/94 [==============================] - 1s 11ms/step - loss: 5.4805 - mae: 5.9584 - lr: 1.1220e-07\n",
            "Epoch 23/100\n",
            "94/94 [==============================] - 1s 11ms/step - loss: 5.1234 - mae: 5.5984 - lr: 1.2589e-07\n",
            "Epoch 24/100\n",
            "94/94 [==============================] - 1s 12ms/step - loss: 4.8024 - mae: 5.2769 - lr: 1.4125e-07\n",
            "Epoch 25/100\n",
            "94/94 [==============================] - 1s 11ms/step - loss: 4.5379 - mae: 5.0101 - lr: 1.5849e-07\n",
            "Epoch 26/100\n",
            "94/94 [==============================] - 1s 11ms/step - loss: 4.3419 - mae: 4.8146 - lr: 1.7783e-07\n",
            "Epoch 27/100\n",
            "94/94 [==============================] - 1s 11ms/step - loss: 4.1393 - mae: 4.6105 - lr: 1.9953e-07\n",
            "Epoch 28/100\n",
            "94/94 [==============================] - 1s 11ms/step - loss: 3.9800 - mae: 4.4548 - lr: 2.2387e-07\n",
            "Epoch 29/100\n",
            "94/94 [==============================] - 1s 11ms/step - loss: 3.8228 - mae: 4.2945 - lr: 2.5119e-07\n",
            "Epoch 30/100\n",
            "94/94 [==============================] - 1s 11ms/step - loss: 3.7074 - mae: 4.1771 - lr: 2.8184e-07\n",
            "Epoch 31/100\n",
            "94/94 [==============================] - 1s 10ms/step - loss: 3.5886 - mae: 4.0587 - lr: 3.1623e-07\n",
            "Epoch 32/100\n",
            "94/94 [==============================] - 1s 10ms/step - loss: 3.5568 - mae: 4.0276 - lr: 3.5481e-07\n",
            "Epoch 33/100\n",
            "94/94 [==============================] - 1s 11ms/step - loss: 3.4105 - mae: 3.8810 - lr: 3.9811e-07\n",
            "Epoch 34/100\n",
            "94/94 [==============================] - 1s 11ms/step - loss: 3.3537 - mae: 3.8192 - lr: 4.4668e-07\n",
            "Epoch 35/100\n",
            "94/94 [==============================] - 1s 11ms/step - loss: 3.3067 - mae: 3.7734 - lr: 5.0119e-07\n",
            "Epoch 36/100\n",
            "94/94 [==============================] - 1s 11ms/step - loss: 3.2600 - mae: 3.7273 - lr: 5.6234e-07\n",
            "Epoch 37/100\n",
            "94/94 [==============================] - 1s 11ms/step - loss: 3.1841 - mae: 3.6516 - lr: 6.3096e-07\n",
            "Epoch 38/100\n",
            "94/94 [==============================] - 1s 11ms/step - loss: 3.1420 - mae: 3.6073 - lr: 7.0795e-07\n",
            "Epoch 39/100\n",
            "94/94 [==============================] - 1s 11ms/step - loss: 3.1477 - mae: 3.6151 - lr: 7.9433e-07\n",
            "Epoch 40/100\n",
            "94/94 [==============================] - 1s 11ms/step - loss: 3.1245 - mae: 3.5911 - lr: 8.9125e-07\n",
            "Epoch 41/100\n",
            "94/94 [==============================] - 1s 10ms/step - loss: 3.2605 - mae: 3.7279 - lr: 1.0000e-06\n",
            "Epoch 42/100\n",
            "94/94 [==============================] - 1s 11ms/step - loss: 3.0715 - mae: 3.5349 - lr: 1.1220e-06\n",
            "Epoch 43/100\n",
            "94/94 [==============================] - 1s 11ms/step - loss: 3.0578 - mae: 3.5227 - lr: 1.2589e-06\n",
            "Epoch 44/100\n",
            "94/94 [==============================] - 1s 11ms/step - loss: 3.0874 - mae: 3.5544 - lr: 1.4125e-06\n",
            "Epoch 45/100\n",
            "94/94 [==============================] - 1s 11ms/step - loss: 3.1224 - mae: 3.5899 - lr: 1.5849e-06\n",
            "Epoch 46/100\n",
            "94/94 [==============================] - 1s 11ms/step - loss: 3.1036 - mae: 3.5707 - lr: 1.7783e-06\n",
            "Epoch 47/100\n",
            "94/94 [==============================] - 1s 12ms/step - loss: 2.9939 - mae: 3.4566 - lr: 1.9953e-06\n",
            "Epoch 48/100\n",
            "94/94 [==============================] - 1s 11ms/step - loss: 2.9878 - mae: 3.4542 - lr: 2.2387e-06\n",
            "Epoch 49/100\n",
            "94/94 [==============================] - 1s 11ms/step - loss: 3.1565 - mae: 3.6257 - lr: 2.5119e-06\n",
            "Epoch 50/100\n",
            "94/94 [==============================] - 1s 11ms/step - loss: 3.0806 - mae: 3.5486 - lr: 2.8184e-06\n",
            "Epoch 51/100\n",
            "94/94 [==============================] - 1s 11ms/step - loss: 3.0617 - mae: 3.5284 - lr: 3.1623e-06\n",
            "Epoch 52/100\n",
            "94/94 [==============================] - 1s 12ms/step - loss: 2.9716 - mae: 3.4386 - lr: 3.5481e-06\n",
            "Epoch 53/100\n",
            "94/94 [==============================] - 1s 11ms/step - loss: 3.1071 - mae: 3.5736 - lr: 3.9811e-06\n",
            "Epoch 54/100\n",
            "94/94 [==============================] - 1s 11ms/step - loss: 2.9791 - mae: 3.4439 - lr: 4.4668e-06\n",
            "Epoch 55/100\n",
            "94/94 [==============================] - 1s 11ms/step - loss: 3.0622 - mae: 3.5316 - lr: 5.0119e-06\n",
            "Epoch 56/100\n",
            "94/94 [==============================] - 1s 10ms/step - loss: 3.7526 - mae: 4.2263 - lr: 5.6234e-06\n",
            "Epoch 57/100\n",
            "94/94 [==============================] - 1s 11ms/step - loss: 3.5378 - mae: 4.0105 - lr: 6.3096e-06\n",
            "Epoch 58/100\n",
            "94/94 [==============================] - 1s 11ms/step - loss: 3.1207 - mae: 3.5893 - lr: 7.0795e-06\n",
            "Epoch 59/100\n",
            "94/94 [==============================] - 1s 11ms/step - loss: 3.9022 - mae: 4.3762 - lr: 7.9433e-06\n",
            "Epoch 60/100\n",
            "94/94 [==============================] - 1s 10ms/step - loss: 3.1882 - mae: 3.6571 - lr: 8.9125e-06\n",
            "Epoch 61/100\n",
            "94/94 [==============================] - 1s 11ms/step - loss: 3.5579 - mae: 4.0285 - lr: 1.0000e-05\n",
            "Epoch 62/100\n",
            "94/94 [==============================] - 1s 11ms/step - loss: 3.1427 - mae: 3.6118 - lr: 1.1220e-05\n",
            "Epoch 63/100\n",
            "94/94 [==============================] - 1s 11ms/step - loss: 3.7582 - mae: 4.2320 - lr: 1.2589e-05\n",
            "Epoch 64/100\n",
            "94/94 [==============================] - 1s 11ms/step - loss: 3.8196 - mae: 4.2962 - lr: 1.4125e-05\n",
            "Epoch 65/100\n",
            "94/94 [==============================] - 1s 11ms/step - loss: 5.0693 - mae: 5.5494 - lr: 1.5849e-05\n",
            "Epoch 66/100\n",
            "94/94 [==============================] - 1s 11ms/step - loss: 4.3003 - mae: 4.7761 - lr: 1.7783e-05\n",
            "Epoch 67/100\n",
            "94/94 [==============================] - 1s 11ms/step - loss: 4.4861 - mae: 4.9629 - lr: 1.9953e-05\n",
            "Epoch 68/100\n",
            "94/94 [==============================] - 1s 10ms/step - loss: 4.1520 - mae: 4.6250 - lr: 2.2387e-05\n",
            "Epoch 69/100\n",
            "94/94 [==============================] - 1s 10ms/step - loss: 4.8907 - mae: 5.3701 - lr: 2.5119e-05\n",
            "Epoch 70/100\n",
            "94/94 [==============================] - 1s 11ms/step - loss: 7.9945 - mae: 8.4839 - lr: 2.8184e-05\n",
            "Epoch 71/100\n",
            "94/94 [==============================] - 1s 11ms/step - loss: 4.6565 - mae: 5.1363 - lr: 3.1623e-05\n",
            "Epoch 72/100\n",
            "94/94 [==============================] - 1s 11ms/step - loss: 4.9437 - mae: 5.4219 - lr: 3.5481e-05\n",
            "Epoch 73/100\n",
            "94/94 [==============================] - 1s 11ms/step - loss: 6.9078 - mae: 7.3951 - lr: 3.9811e-05\n",
            "Epoch 74/100\n",
            "94/94 [==============================] - 1s 11ms/step - loss: 13.2260 - mae: 13.7225 - lr: 4.4668e-05\n",
            "Epoch 75/100\n",
            "94/94 [==============================] - 1s 11ms/step - loss: 10.8227 - mae: 11.3153 - lr: 5.0119e-05\n",
            "Epoch 76/100\n",
            "94/94 [==============================] - 1s 11ms/step - loss: 8.3552 - mae: 8.8462 - lr: 5.6234e-05\n",
            "Epoch 77/100\n",
            "94/94 [==============================] - 1s 11ms/step - loss: 8.6467 - mae: 9.1385 - lr: 6.3096e-05\n",
            "Epoch 78/100\n",
            "94/94 [==============================] - 1s 10ms/step - loss: 7.6607 - mae: 8.1498 - lr: 7.0795e-05\n",
            "Epoch 79/100\n",
            "94/94 [==============================] - 1s 11ms/step - loss: 10.2750 - mae: 10.7666 - lr: 7.9433e-05\n",
            "Epoch 80/100\n",
            "94/94 [==============================] - 1s 11ms/step - loss: 6.7450 - mae: 7.2319 - lr: 8.9125e-05\n",
            "Epoch 81/100\n",
            "94/94 [==============================] - 1s 11ms/step - loss: 5.4360 - mae: 5.9143 - lr: 1.0000e-04\n",
            "Epoch 82/100\n",
            "94/94 [==============================] - 1s 11ms/step - loss: 7.6654 - mae: 8.1523 - lr: 1.1220e-04\n",
            "Epoch 83/100\n",
            "94/94 [==============================] - 1s 11ms/step - loss: 5.7519 - mae: 6.2338 - lr: 1.2589e-04\n",
            "Epoch 84/100\n",
            "94/94 [==============================] - 1s 11ms/step - loss: 7.8757 - mae: 8.3639 - lr: 1.4125e-04\n",
            "Epoch 85/100\n",
            "94/94 [==============================] - 1s 11ms/step - loss: 5.6874 - mae: 6.1665 - lr: 1.5849e-04\n",
            "Epoch 86/100\n",
            "94/94 [==============================] - 1s 11ms/step - loss: 8.1807 - mae: 8.6692 - lr: 1.7783e-04\n",
            "Epoch 87/100\n",
            "94/94 [==============================] - 1s 11ms/step - loss: 4.8234 - mae: 5.3017 - lr: 1.9953e-04\n",
            "Epoch 88/100\n",
            "94/94 [==============================] - 1s 11ms/step - loss: 4.3185 - mae: 4.7950 - lr: 2.2387e-04\n",
            "Epoch 89/100\n",
            "94/94 [==============================] - 1s 11ms/step - loss: 6.0011 - mae: 6.4859 - lr: 2.5119e-04\n",
            "Epoch 90/100\n",
            "94/94 [==============================] - 1s 11ms/step - loss: 4.7839 - mae: 5.2624 - lr: 2.8184e-04\n",
            "Epoch 91/100\n",
            "94/94 [==============================] - 1s 10ms/step - loss: 5.0053 - mae: 5.4838 - lr: 3.1623e-04\n",
            "Epoch 92/100\n",
            "94/94 [==============================] - 1s 11ms/step - loss: 6.6246 - mae: 7.1061 - lr: 3.5481e-04\n",
            "Epoch 93/100\n",
            "94/94 [==============================] - 1s 10ms/step - loss: 34.7220 - mae: 35.2199 - lr: 3.9811e-04\n",
            "Epoch 94/100\n",
            "94/94 [==============================] - 1s 10ms/step - loss: 15.6433 - mae: 16.1363 - lr: 4.4668e-04\n",
            "Epoch 95/100\n",
            "94/94 [==============================] - 1s 11ms/step - loss: 13.3565 - mae: 13.8484 - lr: 5.0119e-04\n",
            "Epoch 96/100\n",
            "94/94 [==============================] - 1s 11ms/step - loss: 196.7382 - mae: 197.2367 - lr: 5.6234e-04\n",
            "Epoch 97/100\n",
            "94/94 [==============================] - 1s 10ms/step - loss: 276.4576 - mae: 276.9575 - lr: 6.3096e-04\n",
            "Epoch 98/100\n",
            "94/94 [==============================] - 1s 10ms/step - loss: 279.0556 - mae: 279.5555 - lr: 7.0795e-04\n",
            "Epoch 99/100\n",
            "94/94 [==============================] - 1s 11ms/step - loss: 586.0195 - mae: 586.5192 - lr: 7.9433e-04\n",
            "Epoch 100/100\n",
            "94/94 [==============================] - 1s 11ms/step - loss: 763.3896 - mae: 763.8896 - lr: 8.9125e-04\n"
          ],
          "name": "stdout"
        }
      ]
    },
    {
      "cell_type": "code",
      "metadata": {
        "id": "joPnhNJcJ4nb",
        "colab_type": "code",
        "colab": {
          "base_uri": "https://localhost:8080/",
          "height": 291
        },
        "outputId": "76627853-6b8d-4940-9b56-bb688ce6136c"
      },
      "source": [
        "plt.semilogx(history_rnn0.history['lr'],history_rnn0.history['loss'])\n",
        "plt.axis([1e-8,1e-4,0,30])"
      ],
      "execution_count": null,
      "outputs": [
        {
          "output_type": "execute_result",
          "data": {
            "text/plain": [
              "(1e-08, 0.0001, 0.0, 30.0)"
            ]
          },
          "metadata": {
            "tags": []
          },
          "execution_count": 81
        },
        {
          "output_type": "display_data",
          "data": {
            "image/png": "[encoded data removed]",
            "text/plain": [
              "<Figure size 432x288 with 1 Axes>"
            ]
          },
          "metadata": {
            "tags": [],
            "needs_background": "light"
          }
        }
      ]
    },
    {
      "cell_type": "markdown",
      "metadata": {
        "id": "OI-tCIO1Pcju",
        "colab_type": "text"
      },
      "source": [
        "selecting new optimal lr as 2.8184e-06 since it has the least loss\n"
      ]
    },
    {
      "cell_type": "code",
      "metadata": {
        "id": "h4pDuaebJ4lr",
        "colab_type": "code",
        "colab": {}
      },
      "source": [
        "tf.keras.backend.clear_session()\n",
        "tf.random.set_seed(51)\n",
        "np.random.seed(51)\n",
        "dataset = windowed_dataset(x_train,window_size,batch_size,shuffle_buffer_size)"
      ],
      "execution_count": null,
      "outputs": []
    },
    {
      "cell_type": "code",
      "metadata": {
        "id": "o0-GlUQeOGO2",
        "colab_type": "code",
        "colab": {}
      },
      "source": [
        "model_rnn = tf.keras.Sequential([\n",
        "                                 tf.keras.layers.Lambda(lambda x:tf.expand_dims(x,axis=-1)),\n",
        "                                 tf.keras.layers.SimpleRNN(64,return_sequences=True),\n",
        "                                 tf.keras.layers.SimpleRNN(64),\n",
        "                                 tf.keras.layers.Dense(1),\n",
        "                                 tf.keras.layers.Lambda(lambda x : x*100.0)\n",
        "])"
      ],
      "execution_count": null,
      "outputs": []
    },
    {
      "cell_type": "code",
      "metadata": {
        "id": "blVItvUXQY1b",
        "colab_type": "code",
        "colab": {}
      },
      "source": [
        "optimizer_rnn = tf.keras.optimizers.SGD(lr=2.8184e-06,momentum=0.9)\n",
        "model_rnn.compile(loss=tf.keras.losses.Huber(),optimizer=optimizer_rnn,metrics=['mae'])"
      ],
      "execution_count": null,
      "outputs": []
    },
    {
      "cell_type": "code",
      "metadata": {
        "id": "KfXupEYtQ4Q2",
        "colab_type": "code",
        "colab": {
          "base_uri": "https://localhost:8080/",
          "height": 1000
        },
        "outputId": "0ae2af5e-1eb5-43c5-e8e0-ad94ebf04211"
      },
      "source": [
        "history_rnn = model_rnn.fit(dataset,epochs=100,verbose=1)"
      ],
      "execution_count": null,
      "outputs": [
        {
          "output_type": "stream",
          "text": [
            "Epoch 1/100\n",
            "94/94 [==============================] - 1s 11ms/step - loss: 23.0803 - mae: 23.5686\n",
            "Epoch 2/100\n",
            "94/94 [==============================] - 1s 11ms/step - loss: 4.2414 - mae: 4.7163\n",
            "Epoch 3/100\n",
            "94/94 [==============================] - 1s 11ms/step - loss: 3.3607 - mae: 3.8265\n",
            "Epoch 4/100\n",
            "94/94 [==============================] - 1s 11ms/step - loss: 3.2979 - mae: 3.7673\n",
            "Epoch 5/100\n",
            "94/94 [==============================] - 1s 11ms/step - loss: 3.1518 - mae: 3.6198\n",
            "Epoch 6/100\n",
            "94/94 [==============================] - 1s 11ms/step - loss: 3.0108 - mae: 3.4758\n",
            "Epoch 7/100\n",
            "94/94 [==============================] - 1s 11ms/step - loss: 3.0356 - mae: 3.5026\n",
            "Epoch 8/100\n",
            "94/94 [==============================] - 1s 12ms/step - loss: 3.0919 - mae: 3.5604\n",
            "Epoch 9/100\n",
            "94/94 [==============================] - 1s 11ms/step - loss: 2.9763 - mae: 3.4416\n",
            "Epoch 10/100\n",
            "94/94 [==============================] - 1s 11ms/step - loss: 2.9441 - mae: 3.4111\n",
            "Epoch 11/100\n",
            "94/94 [==============================] - 1s 10ms/step - loss: 2.9707 - mae: 3.4355\n",
            "Epoch 12/100\n",
            "94/94 [==============================] - 1s 11ms/step - loss: 2.8737 - mae: 3.3383\n",
            "Epoch 13/100\n",
            "94/94 [==============================] - 1s 11ms/step - loss: 2.9317 - mae: 3.3966\n",
            "Epoch 14/100\n",
            "94/94 [==============================] - 1s 11ms/step - loss: 3.1931 - mae: 3.6608\n",
            "Epoch 15/100\n",
            "94/94 [==============================] - 1s 11ms/step - loss: 3.1937 - mae: 3.6604\n",
            "Epoch 16/100\n",
            "94/94 [==============================] - 1s 11ms/step - loss: 2.9881 - mae: 3.4547\n",
            "Epoch 17/100\n",
            "94/94 [==============================] - 1s 11ms/step - loss: 2.8896 - mae: 3.3582\n",
            "Epoch 18/100\n",
            "94/94 [==============================] - 1s 11ms/step - loss: 2.8599 - mae: 3.3275\n",
            "Epoch 19/100\n",
            "94/94 [==============================] - 1s 11ms/step - loss: 2.9618 - mae: 3.4268\n",
            "Epoch 20/100\n",
            "94/94 [==============================] - 1s 11ms/step - loss: 2.8344 - mae: 3.3016\n",
            "Epoch 21/100\n",
            "94/94 [==============================] - 1s 10ms/step - loss: 2.8089 - mae: 3.2733\n",
            "Epoch 22/100\n",
            "94/94 [==============================] - 1s 11ms/step - loss: 2.8977 - mae: 3.3649\n",
            "Epoch 23/100\n",
            "94/94 [==============================] - 1s 11ms/step - loss: 2.8293 - mae: 3.2916\n",
            "Epoch 24/100\n",
            "94/94 [==============================] - 1s 11ms/step - loss: 2.8939 - mae: 3.3581\n",
            "Epoch 25/100\n",
            "94/94 [==============================] - 1s 10ms/step - loss: 2.8527 - mae: 3.3181\n",
            "Epoch 26/100\n",
            "94/94 [==============================] - 1s 11ms/step - loss: 2.8422 - mae: 3.3061\n",
            "Epoch 27/100\n",
            "94/94 [==============================] - 1s 11ms/step - loss: 2.8235 - mae: 3.2900\n",
            "Epoch 28/100\n",
            "94/94 [==============================] - 1s 11ms/step - loss: 2.9241 - mae: 3.3914\n",
            "Epoch 29/100\n",
            "94/94 [==============================] - 1s 11ms/step - loss: 2.8524 - mae: 3.3148\n",
            "Epoch 30/100\n",
            "94/94 [==============================] - 1s 11ms/step - loss: 2.8659 - mae: 3.3280\n",
            "Epoch 31/100\n",
            "94/94 [==============================] - 1s 11ms/step - loss: 2.8420 - mae: 3.3075\n",
            "Epoch 32/100\n",
            "94/94 [==============================] - 1s 11ms/step - loss: 2.9183 - mae: 3.3835\n",
            "Epoch 33/100\n",
            "94/94 [==============================] - 1s 11ms/step - loss: 2.9449 - mae: 3.4101\n",
            "Epoch 34/100\n",
            "94/94 [==============================] - 1s 11ms/step - loss: 2.9197 - mae: 3.3857\n",
            "Epoch 35/100\n",
            "94/94 [==============================] - 1s 11ms/step - loss: 2.8760 - mae: 3.3405\n",
            "Epoch 36/100\n",
            "94/94 [==============================] - 1s 11ms/step - loss: 2.7640 - mae: 3.2285\n",
            "Epoch 37/100\n",
            "94/94 [==============================] - 1s 11ms/step - loss: 2.9639 - mae: 3.4291\n",
            "Epoch 38/100\n",
            "94/94 [==============================] - 1s 11ms/step - loss: 2.8052 - mae: 3.2704\n",
            "Epoch 39/100\n",
            "94/94 [==============================] - 1s 10ms/step - loss: 2.8768 - mae: 3.3431\n",
            "Epoch 40/100\n",
            "94/94 [==============================] - 1s 11ms/step - loss: 2.8153 - mae: 3.2789\n",
            "Epoch 41/100\n",
            "94/94 [==============================] - 1s 11ms/step - loss: 2.8753 - mae: 3.3398\n",
            "Epoch 42/100\n",
            "94/94 [==============================] - 1s 11ms/step - loss: 3.0586 - mae: 3.5256\n",
            "Epoch 43/100\n",
            "94/94 [==============================] - 1s 10ms/step - loss: 2.7998 - mae: 3.2632\n",
            "Epoch 44/100\n",
            "94/94 [==============================] - 1s 10ms/step - loss: 2.7749 - mae: 3.2401\n",
            "Epoch 45/100\n",
            "94/94 [==============================] - 1s 10ms/step - loss: 2.7714 - mae: 3.2328\n",
            "Epoch 46/100\n",
            "94/94 [==============================] - 1s 10ms/step - loss: 2.7591 - mae: 3.2229\n",
            "Epoch 47/100\n",
            "94/94 [==============================] - 1s 11ms/step - loss: 2.7814 - mae: 3.2448\n",
            "Epoch 48/100\n",
            "94/94 [==============================] - 1s 11ms/step - loss: 2.7465 - mae: 3.2095\n",
            "Epoch 49/100\n",
            "94/94 [==============================] - 1s 11ms/step - loss: 2.9086 - mae: 3.3733\n",
            "Epoch 50/100\n",
            "94/94 [==============================] - 1s 11ms/step - loss: 2.7800 - mae: 3.2418\n",
            "Epoch 51/100\n",
            "94/94 [==============================] - 1s 12ms/step - loss: 2.7962 - mae: 3.2601\n",
            "Epoch 52/100\n",
            "94/94 [==============================] - 1s 11ms/step - loss: 2.7483 - mae: 3.2106\n",
            "Epoch 53/100\n",
            "94/94 [==============================] - 1s 11ms/step - loss: 2.8328 - mae: 3.2996\n",
            "Epoch 54/100\n",
            "94/94 [==============================] - 1s 12ms/step - loss: 2.7241 - mae: 3.1898\n",
            "Epoch 55/100\n",
            "94/94 [==============================] - 1s 11ms/step - loss: 2.7892 - mae: 3.2518\n",
            "Epoch 56/100\n",
            "94/94 [==============================] - 1s 11ms/step - loss: 2.7208 - mae: 3.1803\n",
            "Epoch 57/100\n",
            "94/94 [==============================] - 1s 11ms/step - loss: 2.8485 - mae: 3.3149\n",
            "Epoch 58/100\n",
            "94/94 [==============================] - 1s 11ms/step - loss: 2.6888 - mae: 3.1533\n",
            "Epoch 59/100\n",
            "94/94 [==============================] - 1s 11ms/step - loss: 2.7507 - mae: 3.2151\n",
            "Epoch 60/100\n",
            "94/94 [==============================] - 1s 11ms/step - loss: 2.6839 - mae: 3.1488\n",
            "Epoch 61/100\n",
            "94/94 [==============================] - 1s 11ms/step - loss: 2.6982 - mae: 3.1629\n",
            "Epoch 62/100\n",
            "94/94 [==============================] - 1s 11ms/step - loss: 2.7167 - mae: 3.1808\n",
            "Epoch 63/100\n",
            "94/94 [==============================] - 1s 10ms/step - loss: 2.6529 - mae: 3.1144\n",
            "Epoch 64/100\n",
            "94/94 [==============================] - 1s 10ms/step - loss: 2.7247 - mae: 3.1868\n",
            "Epoch 65/100\n",
            "94/94 [==============================] - 1s 11ms/step - loss: 2.7365 - mae: 3.2012\n",
            "Epoch 66/100\n",
            "94/94 [==============================] - 1s 12ms/step - loss: 2.7494 - mae: 3.2141\n",
            "Epoch 67/100\n",
            "94/94 [==============================] - 1s 12ms/step - loss: 2.8889 - mae: 3.3520\n",
            "Epoch 68/100\n",
            "94/94 [==============================] - 1s 12ms/step - loss: 2.7317 - mae: 3.1943\n",
            "Epoch 69/100\n",
            "94/94 [==============================] - 1s 12ms/step - loss: 2.7012 - mae: 3.1657\n",
            "Epoch 70/100\n",
            "94/94 [==============================] - 1s 13ms/step - loss: 2.7646 - mae: 3.2288\n",
            "Epoch 71/100\n",
            "94/94 [==============================] - 1s 12ms/step - loss: 2.7497 - mae: 3.2169\n",
            "Epoch 72/100\n",
            "94/94 [==============================] - 1s 12ms/step - loss: 2.6486 - mae: 3.1122\n",
            "Epoch 73/100\n",
            "94/94 [==============================] - 1s 12ms/step - loss: 2.7013 - mae: 3.1634\n",
            "Epoch 74/100\n",
            "94/94 [==============================] - 1s 11ms/step - loss: 2.7657 - mae: 3.2293\n",
            "Epoch 75/100\n",
            "94/94 [==============================] - 1s 11ms/step - loss: 2.7462 - mae: 3.2135\n",
            "Epoch 76/100\n",
            "94/94 [==============================] - 1s 10ms/step - loss: 2.7088 - mae: 3.1710\n",
            "Epoch 77/100\n",
            "94/94 [==============================] - 1s 11ms/step - loss: 2.7387 - mae: 3.2018\n",
            "Epoch 78/100\n",
            "94/94 [==============================] - 1s 13ms/step - loss: 2.6695 - mae: 3.1329\n",
            "Epoch 79/100\n",
            "94/94 [==============================] - 1s 14ms/step - loss: 2.6516 - mae: 3.1141\n",
            "Epoch 80/100\n",
            "94/94 [==============================] - 1s 11ms/step - loss: 2.7491 - mae: 3.2134\n",
            "Epoch 81/100\n",
            "94/94 [==============================] - 1s 10ms/step - loss: 2.7995 - mae: 3.2650\n",
            "Epoch 82/100\n",
            "94/94 [==============================] - 1s 11ms/step - loss: 2.7030 - mae: 3.1695\n",
            "Epoch 83/100\n",
            "94/94 [==============================] - 1s 11ms/step - loss: 2.7283 - mae: 3.1947\n",
            "Epoch 84/100\n",
            "94/94 [==============================] - 1s 11ms/step - loss: 2.7119 - mae: 3.1767\n",
            "Epoch 85/100\n",
            "94/94 [==============================] - 1s 11ms/step - loss: 2.6555 - mae: 3.1179\n",
            "Epoch 86/100\n",
            "94/94 [==============================] - 1s 11ms/step - loss: 2.6847 - mae: 3.1451\n",
            "Epoch 87/100\n",
            "94/94 [==============================] - 1s 11ms/step - loss: 2.8424 - mae: 3.3081\n",
            "Epoch 88/100\n",
            "94/94 [==============================] - 1s 11ms/step - loss: 2.6136 - mae: 3.0745\n",
            "Epoch 89/100\n",
            "94/94 [==============================] - 1s 12ms/step - loss: 2.6852 - mae: 3.1492\n",
            "Epoch 90/100\n",
            "94/94 [==============================] - 1s 11ms/step - loss: 2.7682 - mae: 3.2332\n",
            "Epoch 91/100\n",
            "94/94 [==============================] - 1s 11ms/step - loss: 2.6722 - mae: 3.1369\n",
            "Epoch 92/100\n",
            "94/94 [==============================] - 1s 11ms/step - loss: 2.6749 - mae: 3.1394\n",
            "Epoch 93/100\n",
            "94/94 [==============================] - 1s 11ms/step - loss: 2.5967 - mae: 3.0570\n",
            "Epoch 94/100\n",
            "94/94 [==============================] - 1s 11ms/step - loss: 2.6925 - mae: 3.1570\n",
            "Epoch 95/100\n",
            "94/94 [==============================] - 1s 10ms/step - loss: 2.6219 - mae: 3.0847\n",
            "Epoch 96/100\n",
            "94/94 [==============================] - 1s 11ms/step - loss: 2.7379 - mae: 3.2016\n",
            "Epoch 97/100\n",
            "94/94 [==============================] - 1s 11ms/step - loss: 2.6754 - mae: 3.1390\n",
            "Epoch 98/100\n",
            "94/94 [==============================] - 1s 10ms/step - loss: 2.6933 - mae: 3.1574\n",
            "Epoch 99/100\n",
            "94/94 [==============================] - 1s 11ms/step - loss: 2.9484 - mae: 3.4153\n",
            "Epoch 100/100\n",
            "94/94 [==============================] - 1s 11ms/step - loss: 2.6319 - mae: 3.0939\n"
          ],
          "name": "stdout"
        }
      ]
    },
    {
      "cell_type": "code",
      "metadata": {
        "id": "p6a8f0kbQ4Ad",
        "colab_type": "code",
        "colab": {}
      },
      "source": [
        "forecast_rnn= []\n",
        "for time in range(len(series)-window_size):\n",
        "  forecast_rnn.append(model_rnn.predict(series[time:time+window_size][np.newaxis]))"
      ],
      "execution_count": null,
      "outputs": []
    },
    {
      "cell_type": "code",
      "metadata": {
        "id": "1Q-T4-X6Q3Vj",
        "colab_type": "code",
        "colab": {}
      },
      "source": [
        "forecast_rnn = forecast_rnn[split_time-window_size:]\n",
        "results_rnn = np.array(forecast_rnn)[:,0,0]"
      ],
      "execution_count": null,
      "outputs": []
    },
    {
      "cell_type": "code",
      "metadata": {
        "id": "FFQRTjyvRjvQ",
        "colab_type": "code",
        "colab": {
          "base_uri": "https://localhost:8080/",
          "height": 388
        },
        "outputId": "824d5647-107e-49cc-df08-e7eeec554c30"
      },
      "source": [
        "plt.figure(figsize=(10,6))\n",
        "plot_series(time_valid,x_valid)\n",
        "plot_series(time_valid,results_rnn)"
      ],
      "execution_count": null,
      "outputs": [
        {
          "output_type": "display_data",
          "data": {
            "image/png": "[encoded data removed]",
            "text/plain": [
              "<Figure size 720x432 with 1 Axes>"
            ]
          },
          "metadata": {
            "tags": [],
            "needs_background": "light"
          }
        }
      ]
    },
    {
      "cell_type": "code",
      "metadata": {
        "id": "iUBOBfUTR8-G",
        "colab_type": "code",
        "colab": {
          "base_uri": "https://localhost:8080/",
          "height": 35
        },
        "outputId": "9bb7ae9e-06ad-49bf-e723-c97f99787a96"
      },
      "source": [
        "tf.keras.metrics.mean_absolute_error(x_valid,results_rnn).numpy()"
      ],
      "execution_count": null,
      "outputs": [
        {
          "output_type": "execute_result",
          "data": {
            "text/plain": [
              "3.143757"
            ]
          },
          "metadata": {
            "tags": []
          },
          "execution_count": 92
        }
      ]
    },
    {
      "cell_type": "markdown",
      "metadata": {
        "id": "9BxTcnVkOG5r",
        "colab_type": "text"
      },
      "source": [
        "#Now Using an LSTM in the Model\n"
      ]
    },
    {
      "cell_type": "code",
      "metadata": {
        "id": "Cp0t9360G08B",
        "colab_type": "code",
        "colab": {}
      },
      "source": [
        "tf.keras.backend.clear_session()\n",
        "tf.random.set_seed(51)\n",
        "np.random.seed(51)\n",
        "dataset = windowed_dataset(x_train,window_size,batch_size,shuffle_buffer_size)\n",
        "#model_lstm0 checking the lr_schedule with LSTM"
      ],
      "execution_count": null,
      "outputs": []
    },
    {
      "cell_type": "code",
      "metadata": {
        "id": "Ux8c2xylAC18",
        "colab_type": "code",
        "colab": {}
      },
      "source": [
        "model_lstm0 = tf.keras.Sequential([\n",
        "                             tf.keras.layers.Lambda(lambda x:tf.expand_dims(x,axis=-1)),\n",
        "                             tf.keras.layers.Bidirectional(tf.keras.layers.LSTM(32,return_sequences=True)),\n",
        "                             tf.keras.layers.Bidirectional(tf.keras.layers.LSTM(32)),\n",
        "                             tf.keras.layers.Dense(1),\n",
        "                             tf.keras.layers.Lambda(lambda x:x*1000)\n",
        "])"
      ],
      "execution_count": null,
      "outputs": []
    },
    {
      "cell_type": "code",
      "metadata": {
        "id": "ysovhL_wB-8r",
        "colab_type": "code",
        "colab": {}
      },
      "source": [
        "lr_schedule = tf.keras.callbacks.LearningRateScheduler(lambda epoch:1e-8*10**(epoch/20))\n",
        "optimizer0 = tf.keras.optimizers.SGD(lr=1e-8,momentum=0.9)"
      ],
      "execution_count": null,
      "outputs": []
    },
    {
      "cell_type": "code",
      "metadata": {
        "id": "ZspL2snhCpVU",
        "colab_type": "code",
        "colab": {}
      },
      "source": [
        "model_lstm0.compile(loss=tf.keras.losses.Huber(),optimizer=optimizer0,metrics=['mae'])"
      ],
      "execution_count": null,
      "outputs": []
    },
    {
      "cell_type": "code",
      "metadata": {
        "id": "h3iom41BDHDk",
        "colab_type": "code",
        "colab": {
          "base_uri": "https://localhost:8080/",
          "height": 1000
        },
        "outputId": "ad73dc13-1504-4fed-911c-045824f176f8"
      },
      "source": [
        "history_lstm0 = model_lstm0.fit(dataset,epochs=100,callbacks=[lr_schedule])"
      ],
      "execution_count": null,
      "outputs": [
        {
          "output_type": "stream",
          "text": [
            "Epoch 1/100\n",
            "94/94 [==============================] - 3s 27ms/step - loss: 123.1699 - mae: 123.6698 - lr: 1.0000e-08\n",
            "Epoch 2/100\n",
            "94/94 [==============================] - 3s 28ms/step - loss: 20.3034 - mae: 20.7934 - lr: 1.1220e-08\n",
            "Epoch 3/100\n",
            "94/94 [==============================] - 3s 28ms/step - loss: 19.1846 - mae: 19.6742 - lr: 1.2589e-08\n",
            "Epoch 4/100\n",
            "94/94 [==============================] - 3s 29ms/step - loss: 18.6127 - mae: 19.1022 - lr: 1.4125e-08\n",
            "Epoch 5/100\n",
            "94/94 [==============================] - 3s 29ms/step - loss: 18.1114 - mae: 18.5996 - lr: 1.5849e-08\n",
            "Epoch 6/100\n",
            "94/94 [==============================] - 3s 30ms/step - loss: 17.5068 - mae: 17.9954 - lr: 1.7783e-08\n",
            "Epoch 7/100\n",
            "94/94 [==============================] - 3s 29ms/step - loss: 17.3106 - mae: 17.8006 - lr: 1.9953e-08\n",
            "Epoch 8/100\n",
            "94/94 [==============================] - 3s 28ms/step - loss: 16.5688 - mae: 17.0582 - lr: 2.2387e-08\n",
            "Epoch 9/100\n",
            "94/94 [==============================] - 3s 28ms/step - loss: 16.0638 - mae: 16.5515 - lr: 2.5119e-08\n",
            "Epoch 10/100\n",
            "94/94 [==============================] - 3s 29ms/step - loss: 15.2373 - mae: 15.7245 - lr: 2.8184e-08\n",
            "Epoch 11/100\n",
            "94/94 [==============================] - 3s 27ms/step - loss: 14.5050 - mae: 14.9917 - lr: 3.1623e-08\n",
            "Epoch 12/100\n",
            "94/94 [==============================] - 3s 27ms/step - loss: 13.5894 - mae: 14.0773 - lr: 3.5481e-08\n",
            "Epoch 13/100\n",
            "94/94 [==============================] - 3s 28ms/step - loss: 12.7145 - mae: 13.1990 - lr: 3.9811e-08\n",
            "Epoch 14/100\n",
            "94/94 [==============================] - 3s 29ms/step - loss: 11.7955 - mae: 12.2804 - lr: 4.4668e-08\n",
            "Epoch 15/100\n",
            "94/94 [==============================] - 3s 27ms/step - loss: 10.6611 - mae: 11.1438 - lr: 5.0119e-08\n",
            "Epoch 16/100\n",
            "94/94 [==============================] - 3s 28ms/step - loss: 9.4876 - mae: 9.9690 - lr: 5.6234e-08\n",
            "Epoch 17/100\n",
            "94/94 [==============================] - 3s 28ms/step - loss: 8.6577 - mae: 9.1394 - lr: 6.3096e-08\n",
            "Epoch 18/100\n",
            "94/94 [==============================] - 3s 28ms/step - loss: 8.0704 - mae: 8.5512 - lr: 7.0795e-08\n",
            "Epoch 19/100\n",
            "94/94 [==============================] - 3s 28ms/step - loss: 7.5008 - mae: 7.9802 - lr: 7.9433e-08\n",
            "Epoch 20/100\n",
            "94/94 [==============================] - 3s 29ms/step - loss: 6.8684 - mae: 7.3478 - lr: 8.9125e-08\n",
            "Epoch 21/100\n",
            "94/94 [==============================] - 3s 28ms/step - loss: 6.5183 - mae: 6.9974 - lr: 1.0000e-07\n",
            "Epoch 22/100\n",
            "94/94 [==============================] - 3s 28ms/step - loss: 6.0715 - mae: 6.5488 - lr: 1.1220e-07\n",
            "Epoch 23/100\n",
            "94/94 [==============================] - 3s 28ms/step - loss: 5.9121 - mae: 6.3919 - lr: 1.2589e-07\n",
            "Epoch 24/100\n",
            "94/94 [==============================] - 3s 28ms/step - loss: 4.6289 - mae: 5.1045 - lr: 1.4125e-07\n",
            "Epoch 25/100\n",
            "94/94 [==============================] - 3s 28ms/step - loss: 4.0514 - mae: 4.5241 - lr: 1.5849e-07\n",
            "Epoch 26/100\n",
            "94/94 [==============================] - 3s 28ms/step - loss: 4.1436 - mae: 4.6174 - lr: 1.7783e-07\n",
            "Epoch 27/100\n",
            "94/94 [==============================] - 3s 30ms/step - loss: 3.9433 - mae: 4.4185 - lr: 1.9953e-07\n",
            "Epoch 28/100\n",
            "94/94 [==============================] - 3s 30ms/step - loss: 4.0423 - mae: 4.5166 - lr: 2.2387e-07\n",
            "Epoch 29/100\n",
            "94/94 [==============================] - 3s 29ms/step - loss: 3.9101 - mae: 4.3812 - lr: 2.5119e-07\n",
            "Epoch 30/100\n",
            "94/94 [==============================] - 3s 27ms/step - loss: 3.8062 - mae: 4.2757 - lr: 2.8184e-07\n",
            "Epoch 31/100\n",
            "94/94 [==============================] - 3s 28ms/step - loss: 3.9400 - mae: 4.4145 - lr: 3.1623e-07\n",
            "Epoch 32/100\n",
            "94/94 [==============================] - 3s 28ms/step - loss: 4.1236 - mae: 4.5989 - lr: 3.5481e-07\n",
            "Epoch 33/100\n",
            "94/94 [==============================] - 3s 28ms/step - loss: 4.1628 - mae: 4.6372 - lr: 3.9811e-07\n",
            "Epoch 34/100\n",
            "94/94 [==============================] - 3s 29ms/step - loss: 4.4333 - mae: 4.9087 - lr: 4.4668e-07\n",
            "Epoch 35/100\n",
            "94/94 [==============================] - 3s 29ms/step - loss: 4.4279 - mae: 4.9040 - lr: 5.0119e-07\n",
            "Epoch 36/100\n",
            "94/94 [==============================] - 3s 29ms/step - loss: 4.5691 - mae: 5.0476 - lr: 5.6234e-07\n",
            "Epoch 37/100\n",
            "94/94 [==============================] - 3s 29ms/step - loss: 4.2915 - mae: 4.7681 - lr: 6.3096e-07\n",
            "Epoch 38/100\n",
            "94/94 [==============================] - 3s 29ms/step - loss: 4.1946 - mae: 4.6696 - lr: 7.0795e-07\n",
            "Epoch 39/100\n",
            "94/94 [==============================] - 3s 28ms/step - loss: 5.6917 - mae: 6.1730 - lr: 7.9433e-07\n",
            "Epoch 40/100\n",
            "94/94 [==============================] - 3s 28ms/step - loss: 6.7933 - mae: 7.2800 - lr: 8.9125e-07\n",
            "Epoch 41/100\n",
            "94/94 [==============================] - 3s 28ms/step - loss: 5.8076 - mae: 6.2877 - lr: 1.0000e-06\n",
            "Epoch 42/100\n",
            "94/94 [==============================] - 3s 28ms/step - loss: 6.0073 - mae: 6.4904 - lr: 1.1220e-06\n",
            "Epoch 43/100\n",
            "94/94 [==============================] - 3s 27ms/step - loss: 8.4730 - mae: 8.9635 - lr: 1.2589e-06\n",
            "Epoch 44/100\n",
            "94/94 [==============================] - 3s 27ms/step - loss: 9.8933 - mae: 10.3813 - lr: 1.4125e-06\n",
            "Epoch 45/100\n",
            "94/94 [==============================] - 3s 27ms/step - loss: 10.3928 - mae: 10.8863 - lr: 1.5849e-06\n",
            "Epoch 46/100\n",
            "94/94 [==============================] - 3s 28ms/step - loss: 11.4045 - mae: 11.9015 - lr: 1.7783e-06\n",
            "Epoch 47/100\n",
            "94/94 [==============================] - 3s 29ms/step - loss: 12.3665 - mae: 12.8574 - lr: 1.9953e-06\n",
            "Epoch 48/100\n",
            "94/94 [==============================] - 3s 29ms/step - loss: 10.2996 - mae: 10.7862 - lr: 2.2387e-06\n",
            "Epoch 49/100\n",
            "94/94 [==============================] - 3s 29ms/step - loss: 18.3787 - mae: 18.8734 - lr: 2.5119e-06\n",
            "Epoch 50/100\n",
            "94/94 [==============================] - 3s 29ms/step - loss: 25.3755 - mae: 25.8745 - lr: 2.8184e-06\n",
            "Epoch 51/100\n",
            "94/94 [==============================] - 3s 28ms/step - loss: 14.3621 - mae: 14.8566 - lr: 3.1623e-06\n",
            "Epoch 52/100\n",
            "94/94 [==============================] - 3s 29ms/step - loss: 22.7586 - mae: 23.2547 - lr: 3.5481e-06\n",
            "Epoch 53/100\n",
            "94/94 [==============================] - 3s 29ms/step - loss: 22.9889 - mae: 23.4849 - lr: 3.9811e-06\n",
            "Epoch 54/100\n",
            "94/94 [==============================] - 3s 29ms/step - loss: 17.9971 - mae: 18.4900 - lr: 4.4668e-06\n",
            "Epoch 55/100\n",
            "94/94 [==============================] - 3s 27ms/step - loss: 21.2934 - mae: 21.7879 - lr: 5.0119e-06\n",
            "Epoch 56/100\n",
            "94/94 [==============================] - 3s 29ms/step - loss: 15.6306 - mae: 16.1254 - lr: 5.6234e-06\n",
            "Epoch 57/100\n",
            "94/94 [==============================] - 3s 28ms/step - loss: 18.1064 - mae: 18.5987 - lr: 6.3096e-06\n",
            "Epoch 58/100\n",
            "94/94 [==============================] - 3s 27ms/step - loss: 20.0383 - mae: 20.5344 - lr: 7.0795e-06\n",
            "Epoch 59/100\n",
            "94/94 [==============================] - 3s 27ms/step - loss: 19.2418 - mae: 19.7375 - lr: 7.9433e-06\n",
            "Epoch 60/100\n",
            "94/94 [==============================] - 3s 30ms/step - loss: 22.2449 - mae: 22.7405 - lr: 8.9125e-06\n",
            "Epoch 61/100\n",
            "94/94 [==============================] - 3s 28ms/step - loss: 11.4464 - mae: 11.9393 - lr: 1.0000e-05\n",
            "Epoch 62/100\n",
            "94/94 [==============================] - 3s 28ms/step - loss: 9.1459 - mae: 9.6375 - lr: 1.1220e-05\n",
            "Epoch 63/100\n",
            "94/94 [==============================] - 3s 29ms/step - loss: 10.9491 - mae: 11.4412 - lr: 1.2589e-05\n",
            "Epoch 64/100\n",
            "94/94 [==============================] - 3s 28ms/step - loss: 12.5844 - mae: 13.0792 - lr: 1.4125e-05\n",
            "Epoch 65/100\n",
            "94/94 [==============================] - 3s 29ms/step - loss: 11.8229 - mae: 12.3139 - lr: 1.5849e-05\n",
            "Epoch 66/100\n",
            "94/94 [==============================] - 3s 29ms/step - loss: 18.3185 - mae: 18.8141 - lr: 1.7783e-05\n",
            "Epoch 67/100\n",
            "94/94 [==============================] - 3s 30ms/step - loss: 7.9124 - mae: 8.4009 - lr: 1.9953e-05\n",
            "Epoch 68/100\n",
            "94/94 [==============================] - 3s 29ms/step - loss: 15.3530 - mae: 15.8431 - lr: 2.2387e-05\n",
            "Epoch 69/100\n",
            "94/94 [==============================] - 3s 29ms/step - loss: 28.9594 - mae: 29.4559 - lr: 2.5119e-05\n",
            "Epoch 70/100\n",
            "94/94 [==============================] - 3s 30ms/step - loss: 20.9468 - mae: 21.4435 - lr: 2.8184e-05\n",
            "Epoch 71/100\n",
            "94/94 [==============================] - 3s 29ms/step - loss: 17.8338 - mae: 18.3282 - lr: 3.1623e-05\n",
            "Epoch 72/100\n",
            "94/94 [==============================] - 3s 29ms/step - loss: 24.7695 - mae: 25.2647 - lr: 3.5481e-05\n",
            "Epoch 73/100\n",
            "94/94 [==============================] - 3s 29ms/step - loss: 35.6929 - mae: 36.1905 - lr: 3.9811e-05\n",
            "Epoch 74/100\n",
            "94/94 [==============================] - 3s 29ms/step - loss: 52.6021 - mae: 53.1006 - lr: 4.4668e-05\n",
            "Epoch 75/100\n",
            "94/94 [==============================] - 3s 29ms/step - loss: 39.0244 - mae: 39.5227 - lr: 5.0119e-05\n",
            "Epoch 76/100\n",
            "94/94 [==============================] - 3s 28ms/step - loss: 53.1682 - mae: 53.6680 - lr: 5.6234e-05\n",
            "Epoch 77/100\n",
            "94/94 [==============================] - 3s 28ms/step - loss: 51.9297 - mae: 52.4271 - lr: 6.3096e-05\n",
            "Epoch 78/100\n",
            "94/94 [==============================] - 3s 30ms/step - loss: 67.2333 - mae: 67.7331 - lr: 7.0795e-05\n",
            "Epoch 79/100\n",
            "94/94 [==============================] - 3s 29ms/step - loss: 75.8849 - mae: 76.3848 - lr: 7.9433e-05\n",
            "Epoch 80/100\n",
            "94/94 [==============================] - 3s 31ms/step - loss: 66.3395 - mae: 66.8380 - lr: 8.9125e-05\n",
            "Epoch 81/100\n",
            "94/94 [==============================] - 3s 32ms/step - loss: 51.9348 - mae: 52.4341 - lr: 1.0000e-04\n",
            "Epoch 82/100\n",
            "94/94 [==============================] - 3s 34ms/step - loss: 58.5446 - mae: 59.0445 - lr: 1.1220e-04\n",
            "Epoch 83/100\n",
            "94/94 [==============================] - 3s 32ms/step - loss: 66.3665 - mae: 66.8665 - lr: 1.2589e-04\n",
            "Epoch 84/100\n",
            "94/94 [==============================] - 3s 29ms/step - loss: 73.6485 - mae: 74.1485 - lr: 1.4125e-04\n",
            "Epoch 85/100\n",
            "94/94 [==============================] - 3s 30ms/step - loss: 83.5456 - mae: 84.0456 - lr: 1.5849e-04\n",
            "Epoch 86/100\n",
            "94/94 [==============================] - 3s 29ms/step - loss: 94.0578 - mae: 94.5578 - lr: 1.7783e-04\n",
            "Epoch 87/100\n",
            "94/94 [==============================] - 3s 29ms/step - loss: 105.7273 - mae: 106.2273 - lr: 1.9953e-04\n",
            "Epoch 88/100\n",
            "94/94 [==============================] - 3s 29ms/step - loss: 117.3258 - mae: 117.8258 - lr: 2.2387e-04\n",
            "Epoch 89/100\n",
            "94/94 [==============================] - 3s 30ms/step - loss: 132.9062 - mae: 133.4062 - lr: 2.5119e-04\n",
            "Epoch 90/100\n",
            "94/94 [==============================] - 3s 32ms/step - loss: 148.5750 - mae: 149.0750 - lr: 2.8184e-04\n",
            "Epoch 91/100\n",
            "94/94 [==============================] - 3s 29ms/step - loss: 167.2605 - mae: 167.7605 - lr: 3.1623e-04\n",
            "Epoch 92/100\n",
            "94/94 [==============================] - 3s 28ms/step - loss: 186.9069 - mae: 187.4069 - lr: 3.5481e-04\n",
            "Epoch 93/100\n",
            "94/94 [==============================] - 3s 28ms/step - loss: 211.4800 - mae: 211.9800 - lr: 3.9811e-04\n",
            "Epoch 94/100\n",
            "94/94 [==============================] - 3s 28ms/step - loss: 235.3926 - mae: 235.8926 - lr: 4.4668e-04\n",
            "Epoch 95/100\n",
            "94/94 [==============================] - 3s 29ms/step - loss: 265.0317 - mae: 265.5317 - lr: 5.0119e-04\n",
            "Epoch 96/100\n",
            "94/94 [==============================] - 3s 28ms/step - loss: 296.1983 - mae: 296.6983 - lr: 5.6234e-04\n",
            "Epoch 97/100\n",
            "94/94 [==============================] - 3s 27ms/step - loss: 333.5461 - mae: 334.0461 - lr: 6.3096e-04\n",
            "Epoch 98/100\n",
            "94/94 [==============================] - 3s 27ms/step - loss: 371.9223 - mae: 372.4223 - lr: 7.0795e-04\n",
            "Epoch 99/100\n",
            "94/94 [==============================] - 3s 28ms/step - loss: 418.1066 - mae: 418.6066 - lr: 7.9433e-04\n",
            "Epoch 100/100\n",
            "94/94 [==============================] - 3s 29ms/step - loss: 468.4264 - mae: 468.9264 - lr: 8.9125e-04\n"
          ],
          "name": "stdout"
        }
      ]
    },
    {
      "cell_type": "code",
      "metadata": {
        "id": "zAQliXwJDQSM",
        "colab_type": "code",
        "colab": {
          "base_uri": "https://localhost:8080/",
          "height": 291
        },
        "outputId": "06d27fcc-284a-4682-a5ee-e98cdaafc140"
      },
      "source": [
        "plt.semilogx(history0.history['lr'],history0.history['loss'])\n",
        "plt.axis([1e-8,1e-4,0,30])"
      ],
      "execution_count": null,
      "outputs": [
        {
          "output_type": "execute_result",
          "data": {
            "text/plain": [
              "(1e-08, 0.0001, 0.0, 30.0)"
            ]
          },
          "metadata": {
            "tags": []
          },
          "execution_count": 42
        },
        {
          "output_type": "display_data",
          "data": {
            "image/png": "[encoded data removed]",
            "text/plain": [
              "<Figure size 432x288 with 1 Axes>"
            ]
          },
          "metadata": {
            "tags": [],
            "needs_background": "light"
          }
        }
      ]
    },
    {
      "cell_type": "markdown",
      "metadata": {
        "id": "0sSyfSV3RyQQ",
        "colab_type": "text"
      },
      "source": [
        "Now using lr as 2.8184e-07 since there was minimum loss on it \n"
      ]
    },
    {
      "cell_type": "code",
      "metadata": {
        "id": "e4x53tTaD9IL",
        "colab_type": "code",
        "colab": {}
      },
      "source": [
        "tf.keras.backend.clear_session()\n",
        "tf.random.set_seed(51)\n",
        "np.random.seed(51)\n",
        "dataset1 = windowed_dataset(x_train,window_size,batch_size,shuffle_buffer_size)\n",
        "model_lstm = tf.keras.Sequential([\n",
        "                              tf.keras.layers.Lambda(lambda x: tf.expand_dims(x,axis=-1)),\n",
        "                              tf.keras.layers.Bidirectional(tf.keras.layers.LSTM(32,return_sequences=True)),\n",
        "                              tf.keras.layers.Bidirectional(tf.keras.layers.LSTM(32)),\n",
        "                              tf.keras.layers.Dense(1),\n",
        "                              tf.keras.layers.Lambda(lambda x:x*100)\n",
        "])\n",
        "model_lstm.compile(loss=tf.keras.losses.Huber(),optimizer=tf.keras.optimizers.SGD(lr=2.8184e-07,momentum=.9),metrics=['mae'])"
      ],
      "execution_count": null,
      "outputs": []
    },
    {
      "cell_type": "code",
      "metadata": {
        "id": "PBJDByGDLfko",
        "colab_type": "code",
        "colab": {
          "base_uri": "https://localhost:8080/",
          "height": 345
        },
        "outputId": "ef78dea2-dd46-4baa-e6d6-fdfb5b97b558"
      },
      "source": [
        "model_lstm.summary()"
      ],
      "execution_count": null,
      "outputs": [
        {
          "output_type": "stream",
          "text": [
            "Model: \"sequential\"\n",
            "_________________________________________________________________\n",
            "Layer (type)                 Output Shape              Param #   \n",
            "=================================================================\n",
            "lambda (Lambda)              multiple                  0         \n",
            "_________________________________________________________________\n",
            "bidirectional (Bidirectional multiple                  8704      \n",
            "_________________________________________________________________\n",
            "bidirectional_1 (Bidirection multiple                  24832     \n",
            "_________________________________________________________________\n",
            "dense (Dense)                multiple                  65        \n",
            "_________________________________________________________________\n",
            "lambda_1 (Lambda)            multiple                  0         \n",
            "=================================================================\n",
            "Total params: 33,601\n",
            "Trainable params: 33,601\n",
            "Non-trainable params: 0\n",
            "_________________________________________________________________\n"
          ],
          "name": "stdout"
        }
      ]
    },
    {
      "cell_type": "code",
      "metadata": {
        "id": "dfGHZ4lkHeZh",
        "colab_type": "code",
        "colab": {
          "base_uri": "https://localhost:8080/",
          "height": 1000
        },
        "outputId": "faf9c67a-7ed0-4ac3-bd77-ae1a69183663"
      },
      "source": [
        "history_lstm = model_lstm.fit(dataset,epochs=100,verbose=1)"
      ],
      "execution_count": null,
      "outputs": [
        {
          "output_type": "stream",
          "text": [
            "Epoch 1/100\n",
            "94/94 [==============================] - 3s 27ms/step - loss: 7.3218 - mae: 7.7994\n",
            "Epoch 2/100\n",
            "94/94 [==============================] - 3s 28ms/step - loss: 6.2822 - mae: 6.7537\n",
            "Epoch 3/100\n",
            "94/94 [==============================] - 3s 27ms/step - loss: 5.9047 - mae: 6.3757\n",
            "Epoch 4/100\n",
            "94/94 [==============================] - 3s 27ms/step - loss: 5.6642 - mae: 6.1332\n",
            "Epoch 5/100\n",
            "94/94 [==============================] - 3s 27ms/step - loss: 5.5033 - mae: 5.9743\n",
            "Epoch 6/100\n",
            "94/94 [==============================] - 3s 28ms/step - loss: 5.3863 - mae: 5.8556\n",
            "Epoch 7/100\n",
            "94/94 [==============================] - 3s 28ms/step - loss: 5.2923 - mae: 5.7601\n",
            "Epoch 8/100\n",
            "94/94 [==============================] - 3s 29ms/step - loss: 5.2143 - mae: 5.6811\n",
            "Epoch 9/100\n",
            "94/94 [==============================] - 3s 30ms/step - loss: 5.1444 - mae: 5.6115\n",
            "Epoch 10/100\n",
            "94/94 [==============================] - 3s 28ms/step - loss: 5.0813 - mae: 5.5502\n",
            "Epoch 11/100\n",
            "94/94 [==============================] - 3s 28ms/step - loss: 5.0197 - mae: 5.4850\n",
            "Epoch 12/100\n",
            "94/94 [==============================] - 3s 28ms/step - loss: 4.9833 - mae: 5.4503\n",
            "Epoch 13/100\n",
            "94/94 [==============================] - 3s 28ms/step - loss: 4.9310 - mae: 5.3979\n",
            "Epoch 14/100\n",
            "94/94 [==============================] - 3s 28ms/step - loss: 4.8945 - mae: 5.3595\n",
            "Epoch 15/100\n",
            "94/94 [==============================] - 3s 28ms/step - loss: 4.8391 - mae: 5.3033\n",
            "Epoch 16/100\n",
            "94/94 [==============================] - 3s 28ms/step - loss: 4.7963 - mae: 5.2638\n",
            "Epoch 17/100\n",
            "94/94 [==============================] - 3s 27ms/step - loss: 4.7649 - mae: 5.2303\n",
            "Epoch 18/100\n",
            "94/94 [==============================] - 3s 28ms/step - loss: 4.7227 - mae: 5.1893\n",
            "Epoch 19/100\n",
            "94/94 [==============================] - 2s 27ms/step - loss: 4.6894 - mae: 5.1567\n",
            "Epoch 20/100\n",
            "94/94 [==============================] - 3s 28ms/step - loss: 4.6516 - mae: 5.1194\n",
            "Epoch 21/100\n",
            "94/94 [==============================] - 3s 28ms/step - loss: 4.6112 - mae: 5.0772\n",
            "Epoch 22/100\n",
            "94/94 [==============================] - 3s 28ms/step - loss: 4.5878 - mae: 5.0539\n",
            "Epoch 23/100\n",
            "94/94 [==============================] - 3s 30ms/step - loss: 4.5469 - mae: 5.0169\n",
            "Epoch 24/100\n",
            "94/94 [==============================] - 3s 29ms/step - loss: 4.5176 - mae: 4.9855\n",
            "Epoch 25/100\n",
            "94/94 [==============================] - 3s 28ms/step - loss: 4.4718 - mae: 4.9407\n",
            "Epoch 26/100\n",
            "94/94 [==============================] - 3s 28ms/step - loss: 4.4426 - mae: 4.9114\n",
            "Epoch 27/100\n",
            "94/94 [==============================] - 3s 28ms/step - loss: 4.4064 - mae: 4.8753\n",
            "Epoch 28/100\n",
            "94/94 [==============================] - 3s 29ms/step - loss: 4.3808 - mae: 4.8493\n",
            "Epoch 29/100\n",
            "94/94 [==============================] - 3s 28ms/step - loss: 4.3341 - mae: 4.8022\n",
            "Epoch 30/100\n",
            "94/94 [==============================] - 3s 28ms/step - loss: 4.3065 - mae: 4.7752\n",
            "Epoch 31/100\n",
            "94/94 [==============================] - 3s 28ms/step - loss: 4.2616 - mae: 4.7295\n",
            "Epoch 32/100\n",
            "94/94 [==============================] - 3s 28ms/step - loss: 4.2488 - mae: 4.7171\n",
            "Epoch 33/100\n",
            "94/94 [==============================] - 3s 27ms/step - loss: 4.2120 - mae: 4.6809\n",
            "Epoch 34/100\n",
            "94/94 [==============================] - 3s 28ms/step - loss: 4.1739 - mae: 4.6415\n",
            "Epoch 35/100\n",
            "94/94 [==============================] - 2s 26ms/step - loss: 4.1395 - mae: 4.6052\n",
            "Epoch 36/100\n",
            "94/94 [==============================] - 3s 28ms/step - loss: 4.1161 - mae: 4.5837\n",
            "Epoch 37/100\n",
            "94/94 [==============================] - 3s 29ms/step - loss: 4.0789 - mae: 4.5471\n",
            "Epoch 38/100\n",
            "94/94 [==============================] - 3s 29ms/step - loss: 4.0534 - mae: 4.5220\n",
            "Epoch 39/100\n",
            "94/94 [==============================] - 3s 29ms/step - loss: 4.0142 - mae: 4.4816\n",
            "Epoch 40/100\n",
            "94/94 [==============================] - 3s 30ms/step - loss: 3.9967 - mae: 4.4651\n",
            "Epoch 41/100\n",
            "94/94 [==============================] - 3s 28ms/step - loss: 3.9717 - mae: 4.4410\n",
            "Epoch 42/100\n",
            "94/94 [==============================] - 3s 27ms/step - loss: 3.9454 - mae: 4.4137\n",
            "Epoch 43/100\n",
            "94/94 [==============================] - 3s 28ms/step - loss: 3.9105 - mae: 4.3773\n",
            "Epoch 44/100\n",
            "94/94 [==============================] - 3s 28ms/step - loss: 3.8726 - mae: 4.3413\n",
            "Epoch 45/100\n",
            "94/94 [==============================] - 3s 28ms/step - loss: 3.8571 - mae: 4.3228\n",
            "Epoch 46/100\n",
            "94/94 [==============================] - 3s 28ms/step - loss: 3.8268 - mae: 4.2958\n",
            "Epoch 47/100\n",
            "94/94 [==============================] - 3s 28ms/step - loss: 3.7916 - mae: 4.2597\n",
            "Epoch 48/100\n",
            "94/94 [==============================] - 3s 28ms/step - loss: 3.7767 - mae: 4.2458\n",
            "Epoch 49/100\n",
            "94/94 [==============================] - 3s 28ms/step - loss: 3.7452 - mae: 4.2124\n",
            "Epoch 50/100\n",
            "94/94 [==============================] - 3s 28ms/step - loss: 3.7209 - mae: 4.1879\n",
            "Epoch 51/100\n",
            "94/94 [==============================] - 2s 27ms/step - loss: 3.6945 - mae: 4.1621\n",
            "Epoch 52/100\n",
            "94/94 [==============================] - 3s 28ms/step - loss: 3.6759 - mae: 4.1430\n",
            "Epoch 53/100\n",
            "94/94 [==============================] - 3s 28ms/step - loss: 3.6471 - mae: 4.1147\n",
            "Epoch 54/100\n",
            "94/94 [==============================] - 3s 27ms/step - loss: 3.6217 - mae: 4.0900\n",
            "Epoch 55/100\n",
            "94/94 [==============================] - 3s 28ms/step - loss: 3.6094 - mae: 4.0774\n",
            "Epoch 56/100\n",
            "94/94 [==============================] - 3s 28ms/step - loss: 3.5766 - mae: 4.0445\n",
            "Epoch 57/100\n",
            "94/94 [==============================] - 3s 28ms/step - loss: 3.5574 - mae: 4.0236\n",
            "Epoch 58/100\n",
            "94/94 [==============================] - 3s 28ms/step - loss: 3.5334 - mae: 4.0003\n",
            "Epoch 59/100\n",
            "94/94 [==============================] - 3s 29ms/step - loss: 3.5149 - mae: 3.9822\n",
            "Epoch 60/100\n",
            "94/94 [==============================] - 3s 32ms/step - loss: 3.4935 - mae: 3.9594\n",
            "Epoch 61/100\n",
            "94/94 [==============================] - 3s 31ms/step - loss: 3.4767 - mae: 3.9440\n",
            "Epoch 62/100\n",
            "94/94 [==============================] - 3s 30ms/step - loss: 3.4482 - mae: 3.9142\n",
            "Epoch 63/100\n",
            "94/94 [==============================] - 3s 27ms/step - loss: 3.4250 - mae: 3.8916\n",
            "Epoch 64/100\n",
            "94/94 [==============================] - 3s 28ms/step - loss: 3.4200 - mae: 3.8877\n",
            "Epoch 65/100\n",
            "94/94 [==============================] - 3s 28ms/step - loss: 3.3932 - mae: 3.8608\n",
            "Epoch 66/100\n",
            "94/94 [==============================] - 3s 29ms/step - loss: 3.3767 - mae: 3.8440\n",
            "Epoch 67/100\n",
            "94/94 [==============================] - 3s 29ms/step - loss: 3.3509 - mae: 3.8197\n",
            "Epoch 68/100\n",
            "94/94 [==============================] - 3s 30ms/step - loss: 3.3446 - mae: 3.8112\n",
            "Epoch 69/100\n",
            "94/94 [==============================] - 3s 29ms/step - loss: 3.3150 - mae: 3.7821\n",
            "Epoch 70/100\n",
            "94/94 [==============================] - 3s 29ms/step - loss: 3.3017 - mae: 3.7664\n",
            "Epoch 71/100\n",
            "94/94 [==============================] - 3s 28ms/step - loss: 3.2907 - mae: 3.7570\n",
            "Epoch 72/100\n",
            "94/94 [==============================] - 3s 28ms/step - loss: 3.2720 - mae: 3.7381\n",
            "Epoch 73/100\n",
            "94/94 [==============================] - 3s 27ms/step - loss: 3.2682 - mae: 3.7338\n",
            "Epoch 74/100\n",
            "94/94 [==============================] - 3s 28ms/step - loss: 3.2346 - mae: 3.6998\n",
            "Epoch 75/100\n",
            "94/94 [==============================] - 3s 29ms/step - loss: 3.2210 - mae: 3.6879\n",
            "Epoch 76/100\n",
            "94/94 [==============================] - 3s 28ms/step - loss: 3.2047 - mae: 3.6717\n",
            "Epoch 77/100\n",
            "94/94 [==============================] - 3s 29ms/step - loss: 3.1986 - mae: 3.6642\n",
            "Epoch 78/100\n",
            "94/94 [==============================] - 3s 27ms/step - loss: 3.1842 - mae: 3.6520\n",
            "Epoch 79/100\n",
            "94/94 [==============================] - 3s 28ms/step - loss: 3.1736 - mae: 3.6413\n",
            "Epoch 80/100\n",
            "94/94 [==============================] - 3s 27ms/step - loss: 3.1572 - mae: 3.6231\n",
            "Epoch 81/100\n",
            "94/94 [==============================] - 3s 27ms/step - loss: 3.1591 - mae: 3.6246\n",
            "Epoch 82/100\n",
            "94/94 [==============================] - 3s 28ms/step - loss: 3.1292 - mae: 3.5951\n",
            "Epoch 83/100\n",
            "94/94 [==============================] - 3s 29ms/step - loss: 3.1252 - mae: 3.5894\n",
            "Epoch 84/100\n",
            "94/94 [==============================] - 3s 28ms/step - loss: 3.1101 - mae: 3.5768\n",
            "Epoch 85/100\n",
            "94/94 [==============================] - 3s 28ms/step - loss: 3.1074 - mae: 3.5737\n",
            "Epoch 86/100\n",
            "94/94 [==============================] - 3s 28ms/step - loss: 3.0955 - mae: 3.5622\n",
            "Epoch 87/100\n",
            "94/94 [==============================] - 3s 28ms/step - loss: 3.0843 - mae: 3.5511\n",
            "Epoch 88/100\n",
            "94/94 [==============================] - 3s 28ms/step - loss: 3.0742 - mae: 3.5394\n",
            "Epoch 89/100\n",
            "94/94 [==============================] - 3s 29ms/step - loss: 3.0795 - mae: 3.5437\n",
            "Epoch 90/100\n",
            "94/94 [==============================] - 3s 29ms/step - loss: 3.0418 - mae: 3.5055\n",
            "Epoch 91/100\n",
            "94/94 [==============================] - 3s 28ms/step - loss: 3.0666 - mae: 3.5318\n",
            "Epoch 92/100\n",
            "94/94 [==============================] - 3s 28ms/step - loss: 3.0509 - mae: 3.5154\n",
            "Epoch 93/100\n",
            "94/94 [==============================] - 3s 28ms/step - loss: 3.0379 - mae: 3.5040\n",
            "Epoch 94/100\n",
            "94/94 [==============================] - 3s 29ms/step - loss: 3.0316 - mae: 3.4979\n",
            "Epoch 95/100\n",
            "94/94 [==============================] - 3s 28ms/step - loss: 3.0287 - mae: 3.4946\n",
            "Epoch 96/100\n",
            "94/94 [==============================] - 3s 29ms/step - loss: 3.0241 - mae: 3.4899\n",
            "Epoch 97/100\n",
            "94/94 [==============================] - 3s 30ms/step - loss: 3.0110 - mae: 3.4759\n",
            "Epoch 98/100\n",
            "94/94 [==============================] - 3s 29ms/step - loss: 3.0132 - mae: 3.4785\n",
            "Epoch 99/100\n",
            "94/94 [==============================] - 3s 29ms/step - loss: 3.0141 - mae: 3.4791\n",
            "Epoch 100/100\n",
            "94/94 [==============================] - 3s 28ms/step - loss: 3.0018 - mae: 3.4685\n"
          ],
          "name": "stdout"
        }
      ]
    },
    {
      "cell_type": "code",
      "metadata": {
        "id": "Dv_gu8kaHlc0",
        "colab_type": "code",
        "colab": {}
      },
      "source": [
        "forecast_lstm = []\n",
        "for time in range(len(series)-window_size):\n",
        "  forecast_lstm.append(model_lstm.predict(series[time:time+window_size][np.newaxis]))"
      ],
      "execution_count": null,
      "outputs": []
    },
    {
      "cell_type": "code",
      "metadata": {
        "id": "EPrpKa9HIazm",
        "colab_type": "code",
        "colab": {
          "base_uri": "https://localhost:8080/",
          "height": 388
        },
        "outputId": "b4c40b66-6d66-49ad-bdc7-97a5eabf78f9"
      },
      "source": [
        "forecast_lstm = forecast_lstm[split_time-window_size:]\n",
        "results_lstm = np.array(forecast_lstm)[:,0,0]\n",
        "plt.figure(figsize=(10,6))\n",
        "plot_series(time_valid,x_valid)\n",
        "plot_series(time_valid,results_lstm)\n",
        "plt.show()"
      ],
      "execution_count": null,
      "outputs": [
        {
          "output_type": "display_data",
          "data": {
            "image/png": "[encoded data removed]",
            "text/plain": [
              "<Figure size 720x432 with 1 Axes>"
            ]
          },
          "metadata": {
            "tags": [],
            "needs_background": "light"
          }
        }
      ]
    },
    {
      "cell_type": "code",
      "metadata": {
        "id": "7eN6wTMkJmlS",
        "colab_type": "code",
        "colab": {
          "base_uri": "https://localhost:8080/",
          "height": 35
        },
        "outputId": "8a75089f-bc02-4c73-a113-51711ccb5918"
      },
      "source": [
        "tf.keras.metrics.mean_absolute_error(x_valid,results_lstm).numpy()"
      ],
      "execution_count": null,
      "outputs": [
        {
          "output_type": "execute_result",
          "data": {
            "text/plain": [
              "3.331475"
            ]
          },
          "metadata": {
            "tags": []
          },
          "execution_count": 55
        }
      ]
    },
    {
      "cell_type": "markdown",
      "metadata": {
        "id": "TwxhCkG8SvZY",
        "colab_type": "text"
      },
      "source": [
        "Ploting the original , with RNN , and with LSTM"
      ]
    },
    {
      "cell_type": "code",
      "metadata": {
        "id": "wwA6LLvjJ0od",
        "colab_type": "code",
        "colab": {
          "base_uri": "https://localhost:8080/",
          "height": 388
        },
        "outputId": "9d7e8367-be1c-47de-b0d9-d51ffd48f7ac"
      },
      "source": [
        "plt.figure(figsize=(10,6))\n",
        "plot_series(time_valid,x_valid)\n",
        "plot_series(time_valid,results_rnn)\n",
        "plot_series(time_valid,results_lstm)"
      ],
      "execution_count": null,
      "outputs": [
        {
          "output_type": "display_data",
          "data": {
            "image/png": "[encoded data removed]",
            "text/plain": [
              "<Figure size 720x432 with 1 Axes>"
            ]
          },
          "metadata": {
            "tags": [],
            "needs_background": "light"
          }
        }
      ]
    },
    {
      "cell_type": "markdown",
      "metadata": {
        "id": "SzQX-pNDS9qN",
        "colab_type": "text"
      },
      "source": [
        "#Conclusion\n",
        "SimpleRNN with 64 is used to fit the series with trend and seasonality better than with Bidirectional LSTM with 32 (since Bidirectional overall is 32*2 = 64 ) \n",
        "The sudden peak is better predicted in the SimpleRNN network"
      ]
    },
    {
      "cell_type": "code",
      "metadata": {
        "id": "rEqS3G5-S0Je",
        "colab_type": "code",
        "colab": {}
      },
      "source": [
        ""
      ],
      "execution_count": null,
      "outputs": []
    }
  ]
}